{
 "cells": [
  {
   "cell_type": "code",
   "execution_count": null,
   "id": "d37dc898",
   "metadata": {},
   "outputs": [
    {
     "name": "stdout",
     "output_type": "stream",
     "text": [
      "['036', 'AUD', '1', 'Австралийский доллар', '54,6821']\n",
      "['944', 'AZN', '1', 'Азербайджанский манат', '49,1834']\n",
      "['012', 'DZD', '100', 'Алжирских динаров', '64,5313']\n",
      "['051', 'AMD', '100', 'Армянских драмов', '21,8473']\n",
      "['764', 'THB', '10', 'Батов', '25,9430']\n",
      "['048', 'BHD', '1', 'Бахрейнский динар', '222,3238']\n",
      "['933', 'BYN', '1', 'Белорусский рубль', '27,5220']\n",
      "['975', 'BGN', '1', 'Болгарский лев', '50,1841']\n",
      "['068', 'BOB', '1', 'Боливиано', '12,1001']\n",
      "['986', 'BRL', '1', 'Бразильский реал', '15,6512']\n",
      "['410', 'KRW', '1000', 'Вон', '59,7057']\n",
      "['344', 'HKD', '1', 'Гонконгский доллар', '10,7650']\n",
      "['980', 'UAH', '10', 'Гривен', '20,1577']\n",
      "['208', 'DKK', '1', 'Датская крона', '13,1500']\n",
      "['784', 'AED', '1', 'Дирхам ОАЭ', '22,7670']\n",
      "['840', 'USD', '1', 'Доллар США', '83,6118']\n",
      "['704', 'VND', '10000', 'Донгов', '33,1872']\n",
      "['978', 'EUR', '1', 'Евро', '97,6823']\n",
      "['818', 'EGP', '10', 'Египетских фунтов', '17,3746']\n",
      "['985', 'PLN', '1', 'Злотый', '22,8898']\n",
      "['392', 'JPY', '100', 'Иен', '55,8380']\n",
      "['356', 'INR', '100', 'Индийских рупий', '94,2387']\n",
      "['364', 'IRR', '100000', 'Иранских риалов', '14,3516']\n",
      "['124', 'CAD', '1', 'Канадский доллар', '60,0358']\n",
      "['634', 'QAR', '1', 'Катарский риал', '22,9703']\n",
      "['192', 'CUP', '10', 'Кубинских песо', '34,8383']\n",
      "['104', 'MMK', '1000', 'Кьятов', '39,8151']\n",
      "['981', 'GEL', '1', 'Лари', '30,8383']\n",
      "['498', 'MDL', '10', 'Молдавских леев', '50,0008']\n",
      "['566', 'NGN', '1000', 'Найр', '56,1810']\n",
      "['554', 'NZD', '1', 'Новозеландский доллар', '48,1813']\n",
      "['934', 'TMT', '1', 'Новый туркменский манат', '23,8891']\n",
      "['578', 'NOK', '10', 'Норвежских крон', '83,9695']\n",
      "['512', 'OMR', '1', 'Оманский риал', '217,4559']\n",
      "['946', 'RON', '1', 'Румынский лей', '19,2388']\n",
      "['360', 'IDR', '10000', 'Рупий', '49,9115']\n",
      "['710', 'ZAR', '10', 'Рэндов', '47,9197']\n",
      "['682', 'SAR', '1', 'Саудовский риял', '22,2965']\n",
      "['960', 'XDR', '1', 'СДР (специальные права заимствования)', '114,5933']\n",
      "['941', 'RSD', '100', 'Сербских динаров', '83,3295']\n",
      "['702', 'SGD', '1', 'Сингапурский доллар', '64,6850']\n",
      "['417', 'KGS', '100', 'Сомов', '95,6110']\n",
      "['972', 'TJS', '10', 'Сомони', '88,9137']\n",
      "['050', 'BDT', '100', 'Так', '68,6309']\n",
      "['398', 'KZT', '100', 'Тенге', '15,4356']\n",
      "['496', 'MNT', '1000', 'Тугриков', '23,2643']\n",
      "['949', 'TRY', '10', 'Турецких лир', '20,1804']\n",
      "['860', 'UZS', '10000', 'Узбекских сумов', '68,5359']\n",
      "['348', 'HUF', '100', 'Форинтов', '24,9558']\n",
      "['826', 'GBP', '1', 'Фунт стерлингов', '111,6050']\n",
      "['203', 'CZK', '10', 'Чешских крон', '40,1228']\n",
      "['752', 'SEK', '10', 'Шведских крон', '88,8373']\n",
      "['756', 'CHF', '1', 'Швейцарский франк', '104,6063']\n",
      "['230', 'ETB', '100', 'Эфиопских быров', '58,0293']\n",
      "['156', 'CNY', '1', 'Юань', '11,6751']\n"
     ]
    }
   ],
   "source": [
    " import requests\n",
    "from bs4 import BeautifulSoup\n",
    "\n",
    "url = \"https://www.cbr.ru/currency_base/daily/\"  \n",
    "response = requests.get(url)  # скачиваем HTML\n",
    "soup = BeautifulSoup(response.text, \"html.parser\")  #создаём объект для парсинга\n",
    "\n",
    "table = soup.find(\"table\", class_=\"data\")  #ищем таблицу с курсами\n",
    "rows = table.find_all(\"tr\")\n",
    "\n",
    "for row in rows[1:]:  # пропускаем заголовок\n",
    "    cols = row.find_all(\"td\")\n",
    "    print([col.text.strip() for col in cols])\n"
   ]
  },
  {
   "cell_type": "code",
   "execution_count": null,
   "id": "ab48182f",
   "metadata": {},
   "outputs": [
    {
     "name": "stdout",
     "output_type": "stream",
     "text": [
      "ワレメちゃん\n",
      "There are kids on this app\n",
      "What even is this abt\n"
     ]
    }
   ],
   "source": [
    "from selenium import webdriver\n",
    "from selenium.webdriver.common.by import By\n",
    "import time\n",
    "\n",
    "driver = webdriver.Chrome()  #открываем браузер\n",
    "driver.get(\"https://www.youtube.com/watch?v=jhv6PUw0PEQ\")\n",
    "\n",
    "# Прокрутка для подгрузки комментариев\n",
    "for _ in range(5):\n",
    "    driver.execute_script(\"window.scrollBy(0, 1000);\")\n",
    "    time.sleep(2)  #ждём, чтобы успели загрузиться новые комментарии\n",
    "\n",
    "comments = driver.find_elements(By.CSS_SELECTOR, \"#content-text\")\n",
    "for c in comments:\n",
    "    print(c.text)\n",
    "\n",
    "driver.quit()\n"
   ]
  },
  {
   "cell_type": "code",
   "execution_count": null,
   "id": "f0a21a74",
   "metadata": {},
   "outputs": [
    {
     "name": "stdout",
     "output_type": "stream",
     "text": [
      "{'time': '2025-09-28T21:45', 'interval': 900, 'temperature': 4.4, 'windspeed': 7.9, 'winddirection': 51, 'is_day': 0, 'weathercode': 2}\n"
     ]
    }
   ],
   "source": [
    "import requests\n",
    "\n",
    "api_url = \"https://api.open-meteo.com/v1/forecast\"  #пример открытого API\n",
    "params = {\n",
    "    \"latitude\": 55.75,   #Москва\n",
    "    \"longitude\": 37.62,\n",
    "    \"current_weather\": True\n",
    "}\n",
    "\n",
    "response = requests.get(api_url, params=params)  #отправляем запрос с параметрами\n",
    "data = response.json()  # преобразуем ответ в словарь\n",
    "print(data[\"current_weather\"])\n"
   ]
  },
  {
   "cell_type": "markdown",
   "id": "a24b8a20",
   "metadata": {},
   "source": [
    "Для ЦБ РФ: requests + bs4 (статическая страница).\n",
    "\n",
    "Для YouTube: Selenium (динамическая подгрузка).\n",
    "\n",
    "Для API погоды: requests (работа с JSON)."
   ]
  }
 ],
 "metadata": {
  "kernelspec": {
   "display_name": "Python 3",
   "language": "python",
   "name": "python3"
  },
  "language_info": {
   "codemirror_mode": {
    "name": "ipython",
    "version": 3
   },
   "file_extension": ".py",
   "mimetype": "text/x-python",
   "name": "python",
   "nbconvert_exporter": "python",
   "pygments_lexer": "ipython3",
   "version": "3.10.9"
  }
 },
 "nbformat": 4,
 "nbformat_minor": 5
}
